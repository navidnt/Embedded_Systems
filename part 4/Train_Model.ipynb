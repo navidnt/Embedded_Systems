{
  "cells": [
    {
      "cell_type": "markdown",
      "metadata": {
        "id": "x_bItlOzxeVK"
      },
      "source": [
        "# Introduction\n",
        "\n",
        "This notebook will train a very simple model that will compare two numbers and tell us if one is larger than the other.\n",
        "\n",
        "We'll convert the model into something that can be used by tflite and then run it on the ESP32"
      ]
    },
    {
      "cell_type": "code",
      "execution_count": 25,
      "metadata": {
        "id": "JYyfgWPGxeVN"
      },
      "outputs": [],
      "source": [
        "import tensorflow as tf\n",
        "from tensorflow.keras.models import Sequential\n",
        "from tensorflow.keras.layers import Dense\n",
        "from tensorflow.keras import Input\n",
        "from tensorflow.data import Dataset\n",
        "import numpy as np\n",
        "import itertools"
      ]
    },
    {
      "cell_type": "markdown",
      "metadata": {
        "id": "JFSPF166xeVO"
      },
      "source": [
        "## Create a dataset to train our model\n",
        "We'll create a python generator and feed that through a tensorflow Dataset to train our model"
      ]
    },
    {
      "cell_type": "code",
      "execution_count": 26,
      "metadata": {
        "id": "pw3MEENNxeVP"
      },
      "outputs": [],
      "source": [
        "def data_generator():\n",
        "    while(True):\n",
        "        number1 = np.random.uniform();\n",
        "        number2 = np.random.uniform();\n",
        "        # our input data is an array containing 2 numbers\n",
        "        X = [number1, number2]\n",
        "        # our label is 1 or 0\n",
        "        Y = 1 if number2 > number1 else 0\n",
        "        # our generator should return the input data and the label\n",
        "        yield X, [Y]\n",
        "\n",
        "# create a dataset from our generator\n",
        "train_dataset = tf.data.Dataset.from_generator(\n",
        "    data_generator,\n",
        "    output_types = (tf.float32, tf.int32),\n",
        "    output_shapes=((2), (1))\n",
        ")\n",
        "train_dataset = train_dataset.batch(batch_size=30)"
      ]
    },
    {
      "cell_type": "markdown",
      "metadata": {
        "id": "wySfj83FxeVP"
      },
      "source": [
        "## Our very simple mode\n",
        "\n",
        "We don't need a very complicated model for our problem, so we'll just define a small neural network with an input layer and an output layer.\n",
        "\n",
        "It's important that the activation function for the output should be sigmoid. This activation function will output a value between 0 and 1."
      ]
    },
    {
      "cell_type": "code",
      "execution_count": 27,
      "metadata": {
        "id": "NCOpPijAxeVP"
      },
      "outputs": [],
      "source": [
        "model = Sequential([\n",
        "    Input(shape=(2)),\n",
        "    Dense(10, activation='relu'),\n",
        "    Dense(50, activation='relu'),\n",
        "    Dense(150, activation='relu'),\n",
        "    Dense(500, activation='relu'),\n",
        "    Dense(10, activation='relu'),\n",
        "    Dense(1, activation='sigmoid')\n",
        "])"
      ]
    },
    {
      "cell_type": "markdown",
      "metadata": {
        "id": "B4ZVdkzRxeVQ"
      },
      "source": [
        "## Compile our model¶\n",
        "For our loss function we need to use BinaryCrossentropy.\n",
        "\n",
        "Crossentropy quantifies the difference between two probability distribution.\n",
        "\n",
        "We have a binary distribution (True or False) so we use binary crossentropy to compare the output from our model with the true distribution.\n"
      ]
    },
    {
      "cell_type": "code",
      "execution_count": 28,
      "metadata": {
        "colab": {
          "base_uri": "https://localhost:8080/"
        },
        "id": "E43G5tpAxeVY",
        "outputId": "ccdcf0d0-4cd7-4865-a363-d63788de8c12"
      },
      "outputs": [
        {
          "output_type": "stream",
          "name": "stdout",
          "text": [
            "Model: \"sequential_4\"\n",
            "_________________________________________________________________\n",
            " Layer (type)                Output Shape              Param #   \n",
            "=================================================================\n",
            " dense_30 (Dense)            (None, 10)                30        \n",
            "                                                                 \n",
            " dense_31 (Dense)            (None, 50)                550       \n",
            "                                                                 \n",
            " dense_32 (Dense)            (None, 150)               7650      \n",
            "                                                                 \n",
            " dense_33 (Dense)            (None, 500)               75500     \n",
            "                                                                 \n",
            " dense_34 (Dense)            (None, 10)                5010      \n",
            "                                                                 \n",
            " dense_35 (Dense)            (None, 1)                 11        \n",
            "                                                                 \n",
            "=================================================================\n",
            "Total params: 88,751\n",
            "Trainable params: 88,751\n",
            "Non-trainable params: 0\n",
            "_________________________________________________________________\n"
          ]
        }
      ],
      "source": [
        "model.compile(optimizer='adam',\n",
        "              loss=tf.keras.losses.BinaryCrossentropy(),\n",
        "              metrics=['accuracy'])\n",
        "\n",
        "model.summary()"
      ]
    },
    {
      "cell_type": "code",
      "execution_count": 29,
      "metadata": {
        "colab": {
          "base_uri": "https://localhost:8080/"
        },
        "id": "iNe7Zm4wxeVZ",
        "outputId": "4452926f-dfd4-4eee-df95-9c67b8a733d8"
      },
      "outputs": [
        {
          "output_type": "stream",
          "name": "stdout",
          "text": [
            "Epoch 1/4\n",
            "50/50 [==============================] - 1s 7ms/step - loss: 0.5183 - accuracy: 0.7060\n",
            "Epoch 2/4\n",
            "50/50 [==============================] - 0s 7ms/step - loss: 0.0632 - accuracy: 0.9933\n",
            "Epoch 3/4\n",
            "50/50 [==============================] - 0s 7ms/step - loss: 0.0430 - accuracy: 0.9833\n",
            "Epoch 4/4\n",
            "50/50 [==============================] - 0s 7ms/step - loss: 0.0326 - accuracy: 0.9847\n"
          ]
        },
        {
          "output_type": "execute_result",
          "data": {
            "text/plain": [
              "<keras.callbacks.History at 0x7ff3607c7c10>"
            ]
          },
          "metadata": {},
          "execution_count": 29
        }
      ],
      "source": [
        "model.fit(\n",
        "    train_dataset,\n",
        "    steps_per_epoch=50,\n",
        "    epochs=4\n",
        ")"
      ]
    },
    {
      "cell_type": "markdown",
      "metadata": {
        "id": "x7GcF4dAxeVa"
      },
      "source": [
        "## Testing our model\n",
        "We can feed in some values and see what our model predicts"
      ]
    },
    {
      "cell_type": "code",
      "execution_count": 30,
      "metadata": {
        "colab": {
          "base_uri": "https://localhost:8080/"
        },
        "id": "Zh7LbIRkxeVa",
        "outputId": "c507e5a7-97f2-4a68-b4bb-f01bc0a4f182"
      },
      "outputs": [
        {
          "output_type": "stream",
          "name": "stdout",
          "text": [
            "[[0.99]\n",
            " [1.00]\n",
            " [0.00]\n",
            " [0.00]]\n"
          ]
        }
      ],
      "source": [
        "test_X = np.array([\n",
        "    [0.1, 0.2],\n",
        "    [0.3, 0.4],\n",
        "    [0.5, 0.1],\n",
        "    [0.7, 0.2]\n",
        "])\n",
        "Y = model.predict_on_batch(test_X)\n",
        "np.set_printoptions(formatter={'float': lambda x: \"{0:0.2f}\".format(x)})\n",
        "print(Y)"
      ]
    },
    {
      "cell_type": "markdown",
      "metadata": {
        "id": "pw8cNihhxeVa"
      },
      "source": [
        "## Export our model for tflite\n",
        "We need to convert our model into a tflite model"
      ]
    },
    {
      "cell_type": "code",
      "execution_count": 31,
      "metadata": {
        "colab": {
          "base_uri": "https://localhost:8080/"
        },
        "id": "zWouQusLxeVa",
        "outputId": "1f01a6b8-4a6a-43db-d914-7475e9e274f5"
      },
      "outputs": [
        {
          "output_type": "stream",
          "name": "stderr",
          "text": [
            "WARNING:absl:Found untraced functions such as _update_step_xla while saving (showing 1 of 1). These functions will not be directly callable after loading.\n",
            "/usr/local/lib/python3.10/dist-packages/tensorflow/lite/python/convert.py:789: UserWarning: Statistics for quantized inputs were expected, but not specified; continuing anyway.\n",
            "  warnings.warn(\"Statistics for quantized inputs were expected, but not \"\n"
          ]
        },
        {
          "output_type": "execute_result",
          "data": {
            "text/plain": [
              "95360"
            ]
          },
          "metadata": {},
          "execution_count": 31
        }
      ],
      "source": [
        "converter = tf.lite.TFLiteConverter.from_keras_model(model)\n",
        "converter.optimizations = [tf.lite.Optimize.DEFAULT]\n",
        "def representative_dataset_gen():\n",
        "    for _ in range(10000):\n",
        "        yield [\n",
        "            np.array(\n",
        "                [np.random.uniform(), np.random.uniform()]\n",
        "            , dtype=np.float32)\n",
        "        ]\n",
        "converter.representative_dataset = representative_dataset_gen\n",
        "converter.target_spec.supported_ops = [tf.lite.OpsSet.TFLITE_BUILTINS_INT8]\n",
        "tflite_quant_model = converter.convert()\n",
        "open(\"converted_model.tflite\", \"wb\").write(tflite_quant_model)"
      ]
    },
    {
      "cell_type": "markdown",
      "metadata": {
        "id": "8oT5KaTcxeVb"
      },
      "source": [
        "## To convert to C++\n",
        "We can then run this command to convert the model to c code.\n",
        "```\n",
        "xxd -i converted_model.tflite > mdata.cc\n",
        "```"
      ]
    },
    {
      "cell_type": "code",
      "execution_count": 32,
      "metadata": {
        "id": "1fP1hofmxeVb"
      },
      "outputs": [],
      "source": [
        "!xxd -i converted_model.tflite > mdata.cc"
      ]
    }
  ],
  "metadata": {
    "kernelspec": {
      "display_name": "Python 3",
      "language": "python",
      "name": "python3"
    },
    "language_info": {
      "codemirror_mode": {
        "name": "ipython",
        "version": 3
      },
      "file_extension": ".py",
      "mimetype": "text/x-python",
      "name": "python",
      "nbconvert_exporter": "python",
      "pygments_lexer": "ipython3",
      "version": "3.8.2"
    },
    "colab": {
      "provenance": []
    }
  },
  "nbformat": 4,
  "nbformat_minor": 0
}